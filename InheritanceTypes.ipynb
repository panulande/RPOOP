{
  "cells": [
    {
      "cell_type": "markdown",
      "id": "6ed6cc60",
      "metadata": {
        "id": "6ed6cc60"
      },
      "source": [
        "# Single Inheritance\n"
      ]
    },
    {
      "cell_type": "code",
      "execution_count": 2,
      "id": "b0c29a71",
      "metadata": {
        "colab": {
          "base_uri": "https://localhost:8080/"
        },
        "id": "b0c29a71",
        "outputId": "eff98273-498d-4a2d-b004-aef2c335c328"
      },
      "outputs": [
        {
          "output_type": "stream",
          "name": "stdout",
          "text": [
            "First name is Pranav\n",
            "Last name is Lande\n",
            "My age is 19\n",
            "\n",
            "Father name is Vishwas\n",
            "Last name is Lande\n",
            "Father age is 45\n"
          ]
        }
      ],
      "source": [
        "class Family:\n",
        "    def __init__(self,fname,sname,age):\n",
        "        self.fname=fname\n",
        "        self.sname=sname\n",
        "        self.age=age\n",
        "        \n",
        "        \n",
        "class Paras(Family):\n",
        "    pass\n",
        "\n",
        "obja=Paras(\"Pranav\",\"Lande\",19) # creating the object\n",
        "print(\"First name is\",obja.fname)\n",
        "print(\"Last name is\",obja.sname)\n",
        "print(\"My age is\",obja.age)\n",
        "\n",
        "print()\n",
        "\n",
        "class Father(Family): # defining another class\n",
        "    pass\n",
        "\n",
        "objb=Father(\"Vishwas\",\"Lande\",45)\n",
        "print(\"Father name is\",objb.fname)\n",
        "print(\"Last name is\",objb.sname)\n",
        "print(\"Father age is\",objb.age)"
      ]
    },
    {
      "cell_type": "markdown",
      "id": "6c9cfca1",
      "metadata": {
        "id": "6c9cfca1"
      },
      "source": [
        "# Multiple Inheritance\n"
      ]
    },
    {
      "cell_type": "code",
      "execution_count": 12,
      "id": "5d50ec47",
      "metadata": {
        "colab": {
          "base_uri": "https://localhost:8080/"
        },
        "id": "5d50ec47",
        "outputId": "08f6b1e3-94a1-40ad-c984-949acfacc76e"
      },
      "outputs": [
        {
          "output_type": "stream",
          "name": "stdout",
          "text": [
            "Perry is laying eggs\n",
            "Perry is giving birth\n",
            "Platypus says 'Grrr' \n"
          ]
        }
      ],
      "source": [
        "class Animal:\n",
        "    def __init__(self, name):\n",
        "        self.name=name\n",
        "\n",
        "    def speak(self):\n",
        "        raise NotImplementedError('Subclass must implement abstract method')\n",
        "\n",
        "class Mammal(Animal):\n",
        "    def __init__(self,name):\n",
        "        super().__init__(name)\n",
        "\n",
        "    def give_Birth(self):\n",
        "        print(f\"{self.name} is giving birth\")\n",
        "\n",
        "class Bird(Animal):\n",
        "    def __init__(self,name):\n",
        "        super().__init__(name)\n",
        "\n",
        "    def Eggs(self):\n",
        "        print(f\"{self.name} is laying eggs\")\n",
        "\n",
        "class Platypus(Mammal,Bird):\n",
        "    def __init__(self,name):\n",
        "        super().__init__(name)\n",
        "\n",
        "\n",
        "    def speak(self):\n",
        "        print(\"Platypus says 'Grrr' \")\n",
        "P=Platypus(\"Perry\")\n",
        "P.Eggs()\n",
        "P.give_Birth()\n",
        "P.speak()"
      ]
    },
    {
      "cell_type": "markdown",
      "id": "45406d36",
      "metadata": {
        "id": "45406d36"
      },
      "source": [
        "# Multilevel Inheritance"
      ]
    },
    {
      "cell_type": "code",
      "execution_count": null,
      "id": "b27fb28b",
      "metadata": {
        "id": "b27fb28b",
        "outputId": "50909a4f-5421-433f-efca-27e1b0629133"
      },
      "outputs": [
        {
          "name": "stdout",
          "output_type": "stream",
          "text": [
            "Cow name is Rani\n",
            "Cow color is White\n",
            "Cow eats Grass\n",
            "Cow age is 5\n",
            "White\n"
          ]
        }
      ],
      "source": [
        "class Grass:\n",
        "    def __init__(self,color):\n",
        "        self.color=color\n",
        "#         self.eat=eat\n",
        "\n",
        "class Herbivorous(Grass):\n",
        "    def __init__(self,eat,color):\n",
        "#         self.color=color\n",
        "        self.eat=eat\n",
        "        Grass.__init__(self,color)\n",
        "        \n",
        "   \n",
        "    \n",
        "class Cow(Herbivorous):\n",
        "    def __init__(self,name,color,eat,age):\n",
        "        \n",
        "        self.name=name\n",
        "#         self.color=color\n",
        "#         self.eat=eat\n",
        "        self.age=age\n",
        "        Herbivorous.__init__(self,eat,color)\n",
        "    def print(self):\n",
        "        print(\"Cow name is\",self.name)\n",
        "        print(\"Cow color is\",self.color)\n",
        "        print(\"Cow eats\",self.eat)\n",
        "        print(\"Cow age is\",self.age)\n",
        "        \n",
        "c=Cow(\"Rani\",\"White\",\"Grass\",5)\n",
        "c.print()\n",
        "print(c.color)\n",
        "        "
      ]
    }
  ],
  "metadata": {
    "kernelspec": {
      "display_name": "Python 3 (ipykernel)",
      "language": "python",
      "name": "python3"
    },
    "language_info": {
      "codemirror_mode": {
        "name": "ipython",
        "version": 3
      },
      "file_extension": ".py",
      "mimetype": "text/x-python",
      "name": "python",
      "nbconvert_exporter": "python",
      "pygments_lexer": "ipython3",
      "version": "3.9.7"
    },
    "colab": {
      "provenance": []
    }
  },
  "nbformat": 4,
  "nbformat_minor": 5
}