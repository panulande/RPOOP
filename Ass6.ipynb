{
 "cells": [
  {
   "cell_type": "code",
   "execution_count": null,
   "id": "9b795a59",
   "metadata": {
    "scrolled": true
   },
   "outputs": [],
   "source": [
    "class BankAccount:\n",
    "    def _init_(self):\n",
    "        self.name = \"\"\n",
    "        self.account_number = \"\"\n",
    "        self.account_type = \"\"\n",
    "        self.balance = 0\n",
    "    \n",
    "    def assign_values(self):\n",
    "        self.name = input(\"Enter your name: \")\n",
    "        self.account_number = input(\"Enter your account number: \")\n",
    "        self.account_type = input(\"Enter your account type (savings/current): \")\n",
    "        self.balance = float(input(\"Enter initial balance: \"))\n",
    "    \n",
    "    def deposit(self, amount):\n",
    "        self.balance += amount\n",
    "        print(f\"Deposited {amount} successfully. \\nCurrent balance: {self.balance}\")\n",
    "    \n",
    "    def withdraw(self, amount):\n",
    "        if amount > self.balance:\n",
    "            print(\"Insufficient balance.\")\n",
    "        else:\n",
    "            self.balance -= amount\n",
    "            print(f\"Withdrawn {amount} successfully. Current balance: {self.balance}\")\n",
    "    \n",
    "    def display_details(self):\n",
    "        print(f\"Name: {self.name}\")\n",
    "        print(f\"Account number: {self.account_number}\")\n",
    "        print(f\"Account type: {self.account_type}\")\n",
    "        print(f\"Balance: {self.balance}\")\n",
    "        \n",
    "\n",
    "# Example usage\n",
    "account = BankAccount()\n",
    "while True:\n",
    "    print(\"1. Assign values\")\n",
    "    print(\"2. Deposit\")\n",
    "    print(\"3. Withdraw\")\n",
    "    print(\"4. Display details\")\n",
    "    print(\"5. Exit\")\n",
    "    choice = int(input(\"Enter your choice: \"))\n",
    "    \n",
    "    if choice == 1:\n",
    "        account.assign_values()\n",
    "    elif choice == 2:\n",
    "        amount = float(input(\"Enter amount to deposit: \"))\n",
    "        account.deposit(amount)\n",
    "    elif choice == 3:\n",
    "        amount = float(input(\"Enter amount to withdraw: \"))\n",
    "        account.withdraw(amount)\n",
    "    elif choice == 4:\n",
    "        account.display_details()\n",
    "    elif choice == 5:\n",
    "        break\n",
    "    else:\n",
    "        print(\"Invalid choice.\")"
   ]
  },
  {
   "cell_type": "code",
   "execution_count": null,
   "id": "67c2f261",
   "metadata": {},
   "outputs": [],
   "source": []
  }
 ],
 "metadata": {
  "kernelspec": {
   "display_name": "Python 3 (ipykernel)",
   "language": "python",
   "name": "python3"
  },
  "language_info": {
   "codemirror_mode": {
    "name": "ipython",
    "version": 3
   },
   "file_extension": ".py",
   "mimetype": "text/x-python",
   "name": "python",
   "nbconvert_exporter": "python",
   "pygments_lexer": "ipython3",
   "version": "3.9.7"
  }
 },
 "nbformat": 4,
 "nbformat_minor": 5
}
