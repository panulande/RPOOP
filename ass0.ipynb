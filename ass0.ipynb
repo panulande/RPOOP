{
  "nbformat": 4,
  "nbformat_minor": 0,
  "metadata": {
    "colab": {
      "provenance": []
    },
    "kernelspec": {
      "name": "python3",
      "display_name": "Python 3"
    },
    "language_info": {
      "name": "python"
    }
  },
  "cells": [
    {
      "cell_type": "code",
      "execution_count": 3,
      "metadata": {
        "colab": {
          "base_uri": "https://localhost:8080/"
        },
        "id": "Z-umrlm_yQvD",
        "outputId": "8dd28291-f65d-42d6-ffff-ffbdd4a679ed"
      },
      "outputs": [
        {
          "output_type": "stream",
          "name": "stdout",
          "text": [
            "the area is  6\n",
            "the perimeter is 10\n",
            "******************************\n",
            "the dimensions are\n",
            "the length is 2\n",
            "the width is 3\n",
            "*******************************\n",
            "after using the change dimensions function\n",
            "the length is 3\n",
            "the width is 4\n"
          ]
        }
      ],
      "source": [
        "class rectangle:\n",
        "    def __init__(self, len, wid):\n",
        "\n",
        "        self.length=len\n",
        "        self.width=wid\n",
        "    def change_dim(self,len,wid):\n",
        "        self.length=len\n",
        "        self.width=wid\n",
        "    def area(self):\n",
        "        return self.length*self.width\n",
        "    def perimeter(self):\n",
        "        return 2*(self.length+self.width)\n",
        "    def report_dimensions(self):\n",
        "        print(\"the length is\",self.length)\n",
        "        print(\"the width is\",self.width)\n",
        "\n",
        "rectu=rectangle(2,3)\n",
        "print(\"the area is \",rectu.area())\n",
        "print(\"the perimeter is\",rectu.perimeter())\n",
        "print(\"******************************\")\n",
        "print(\"the dimensions are\")\n",
        "rectu.report_dimensions()\n",
        "print(\"*******************************\")\n",
        "print(\"after using the change dimensions function\")\n",
        "rectu.change_dim(3,4)\n",
        "rectu.report_dimensions()"
      ]
    }
  ]
}