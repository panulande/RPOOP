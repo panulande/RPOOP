{
  "nbformat": 4,
  "nbformat_minor": 0,
  "metadata": {
    "colab": {
      "provenance": []
    },
    "kernelspec": {
      "name": "python3",
      "display_name": "Python 3"
    },
    "language_info": {
      "name": "python"
    }
  },
  "cells": [
    {
      "cell_type": "code",
      "execution_count": 1,
      "metadata": {
        "colab": {
          "base_uri": "https://localhost:8080/"
        },
        "id": "LOFHG_Pey_jN",
        "outputId": "6d4df388-97e9-4f14-b5e9-786e8832430b"
      },
      "outputs": [
        {
          "output_type": "stream",
          "name": "stdout",
          "text": [
            "Polygon perimeter: 18\n",
            "Area calculation not implemented for this polygon.\n",
            "Rectangle perimeter: 14\n",
            "Rectangle area: 12\n",
            "Square perimeter: 20\n",
            "Square area: 25\n"
          ]
        }
      ],
      "source": [
        "class Polygon:\n",
        "    def __init__(self, sides):\n",
        "        self.sides = sides\n",
        "\n",
        "    def perimeter(self):\n",
        "        return sum(self.sides)\n",
        "\n",
        "    def area(self):\n",
        "        raise NotImplementedError(\"Area calculation not implemented for this polygon.\")\n",
        "\n",
        "class Rectangle(Polygon):\n",
        "    def __init__(self, width, height):\n",
        "        super().__init__([width, height, width, height])\n",
        "        self.width = width\n",
        "        self.height = height\n",
        "\n",
        "    def area(self):\n",
        "        return self.width * self.height\n",
        "\n",
        "class Square(Rectangle):\n",
        "    def __init__(self, side):\n",
        "        super().__init__(side, side)\n",
        "        self.side = side\n",
        "\n",
        "if __name__ == \"__main__\":\n",
        "    # Test code for the classes\n",
        "    p = Polygon([3, 4, 5, 6])\n",
        "    print(\"Polygon perimeter:\", p.perimeter()) \n",
        "    try:\n",
        "        print(\"Polygon area:\", p.area()) \n",
        "    except NotImplementedError as e:\n",
        "        print(e)\n",
        "\n",
        "    r = Rectangle(3, 4)\n",
        "    print(\"Rectangle perimeter:\", r.perimeter())  \n",
        "    print(\"Rectangle area:\", r.area()) \n",
        "\n",
        "    s = Square(5)\n",
        "    print(\"Square perimeter:\", s.perimeter())  \n",
        "    print(\"Square area:\", s.area())  "
      ]
    }
  ]
}