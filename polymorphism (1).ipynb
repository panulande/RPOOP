{
  "nbformat": 4,
  "nbformat_minor": 0,
  "metadata": {
    "colab": {
      "provenance": []
    },
    "kernelspec": {
      "name": "python3",
      "display_name": "Python 3"
    },
    "language_info": {
      "name": "python"
    }
  },
  "cells": [
    {
      "cell_type": "code",
      "execution_count": 1,
      "metadata": {
        "colab": {
          "base_uri": "https://localhost:8080/"
        },
        "id": "cwA_0IgmVe9p",
        "outputId": "e1bf93e0-8585-470b-c2b2-084626d53898"
      },
      "outputs": [
        {
          "output_type": "stream",
          "name": "stdout",
          "text": [
            "The area of the shape is: 20\n",
            "The area of the shape is: 28.26\n",
            "The area of the shape is: 24.0\n"
          ]
        }
      ],
      "source": [
        "class Shape:\n",
        "    def area(self):\n",
        "        pass\n",
        "\n",
        "class Rectangle(Shape):\n",
        "    def __init__(self, length, width):\n",
        "        self.length = length\n",
        "        self.width = width\n",
        "\n",
        "    def area(self):\n",
        "        return self.length * self.width\n",
        "\n",
        "class Circle(Shape):\n",
        "    def __init__(self, radius):\n",
        "        self.radius = radius\n",
        "\n",
        "    def area(self):\n",
        "        return 3.14 * self.radius**2\n",
        "\n",
        "class Triangle(Shape):\n",
        "    def __init__(self, base, height):\n",
        "        self.base = base\n",
        "        self.height = height\n",
        "\n",
        "    def area(self):\n",
        "        return 0.5 * self.base * self.height\n",
        "\n",
        "# Function to calculate the area of any shape\n",
        "def calculate_area(shape):\n",
        "    print(f\"The area of the shape is: {shape.area()}\")\n",
        "\n",
        "# Create objects of different shapes\n",
        "rectangle = Rectangle(4, 5)\n",
        "circle = Circle(3)\n",
        "triangle = Triangle(6, 8)\n",
        "\n",
        "# Call the calculate_area() function with different shapes\n",
        "calculate_area(rectangle)  # Output: The area of the shape is: 20\n",
        "calculate_area(circle)     # Output: The area of the shape is: 28.26\n",
        "calculate_area(triangle)   # Output: The area of the shape is: 24.0\n"
      ]
    }
  ]
}